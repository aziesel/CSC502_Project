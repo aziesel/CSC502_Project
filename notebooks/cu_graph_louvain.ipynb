{
 "cells": [
  {
   "cell_type": "code",
   "execution_count": null,
   "metadata": {},
   "outputs": [],
   "source": [
    "# install GraphFrames using the following command with your Virtual Environment activated and pyspark already installed:\n",
    "# pyspark --packages graphframes:graphframes:0.6.0-spark2.3-s_2.11\n",
    "\n",
    "import pyspark\n",
    "\n",
    "from les_mis import LES_MIS_GRAPH\n",
    "\n",
    "sc = pyspark.SparkContext.getOrCreate()\n",
    "graph = sc.parallelize(LES_MIS_GRAPH, 32)"
   ]
  },
  {
   "cell_type": "code",
   "execution_count": null,
   "metadata": {},
   "outputs": [],
   "source": [
    "nodes = graph.flatMap(lambda x: (x[0], x[1])).distinct().collect()\n",
    "node_to_id = {node: i for i, node in enumerate(nodes)}\n",
    "id_to_node = {i: node for i, node in enumerate(nodes)}\n",
    "len(nodes)"
   ]
  },
  {
   "cell_type": "code",
   "execution_count": null,
   "metadata": {},
   "outputs": [],
   "source": [
    "from itertools import islice\n",
    "\n",
    "\n",
    "def get_node_attributes(graph: pyspark.rdd.RDD, node_to_id: dict[int, str]):\n",
    "    \"\"\"\n",
    "    Function is designed to take all nodes in a graph and output their node ID's and their attributes\n",
    "    to a dictionary that can be queried when we want to easily access the attributes of a node.\n",
    "    \"\"\"\n",
    "    encoded_edges = [(node_to_id[edge[0]], node_to_id[edge[1]], edge[2]) for edge in graph.collect()]\n",
    "    node_attributes = {i:([], []) for i, node in enumerate(nodes)}\n",
    "    for entry in encoded_edges:\n",
    "        node_attributes[entry[0]][0].append(entry[1])\n",
    "        node_attributes[entry[0]][1].append(entry[2])\n",
    "        node_attributes[entry[1]][0].append(entry[0])\n",
    "        node_attributes[entry[1]][1].append(entry[2])\n",
    "\n",
    "    return node_attributes\n",
    "\n",
    "node_id_to_attrs = get_node_attributes(graph, node_to_id)\n",
    "list(islice(node_id_to_attrs.items(), 3))"
   ]
  },
  {
   "cell_type": "code",
   "execution_count": null,
   "metadata": {},
   "outputs": [],
   "source": [
    "input_c = graph.flatMap(lambda x: (x[0], x[1])).distinct().zipWithIndex().map(lambda x: (node_to_id[x[0]], f\"cluster:{x[1]}\"))\n",
    "input_c.take(3)"
   ]
  },
  {
   "cell_type": "code",
   "execution_count": null,
   "metadata": {},
   "outputs": [],
   "source": [
    "# Prepare Input G part 1\n",
    "input_g = graph.map(lambda x: (x[0], (x[1], x[2]))).union(\n",
    "    graph.map(lambda x: (x[1], (x[0], x[2])))\n",
    ").map(lambda x: (node_to_id[x[0]], ((node_to_id[x[1][0]], node_id_to_attrs[node_to_id[x[1][0]]]), x[1][1]))).sortByKey(lambda x: x[0])\n",
    "input_g.take(1)"
   ]
  },
  {
   "cell_type": "code",
   "execution_count": null,
   "metadata": {},
   "outputs": [],
   "source": [
    "input_g = input_g.groupByKey().mapValues(lambda r: ([x[0] for x in r], [x[1] for x in r]))\n",
    "input_g.take(1)"
   ]
  },
  {
   "cell_type": "code",
   "execution_count": null,
   "metadata": {},
   "outputs": [],
   "source": [
    "# input_g = input_g.repartition(32)\n",
    "# input_c = input_c.repartition(32)\n",
    "input_c = sc.parallelize(input_c.collect(), 32).sortByKey(lambda x: x[0]) # zip doesn't seem to work with repartition... cool.\n",
    "input_g = sc.parallelize(input_g.collect(), 32).sortByKey(lambda x: x[0])"
   ]
  },
  {
   "cell_type": "code",
   "execution_count": null,
   "metadata": {},
   "outputs": [],
   "source": [
    "first_zip = input_c.zip(input_g).map(lambda x: ( x[0][1], ([(x[0][0], x[1][1])]) ) )\n",
    "first_zip.take(1)"
   ]
  },
  {
   "cell_type": "code",
   "execution_count": null,
   "metadata": {},
   "outputs": [],
   "source": [
    "# Map the vertices such that the existing cluster takes a new node...\n",
    "first_agg = first_zip.mapValues(lambda c: [(v[0], e, v[1][1]) for v in c for e in v[1][0]])\n",
    "first_agg.take(1)"
   ]
  },
  {
   "cell_type": "code",
   "execution_count": null,
   "metadata": {},
   "outputs": [],
   "source": [
    "# Paper Definitions from page 690 in Distributed Graph Clustering Using Modularity Map Equation:\n",
    "# deg(v) - The weighted degree of a node v that is the sum of all outgoing edges (v, u) of v.\n",
    "# vol(C) - The sum of all weighted degrees of a set of nodes C.\n",
    "# cut(v, C) - The sum of all weights of edges (v, u) where u is in C.\n",
    "\n",
    "# cluster 0 expected outputs:\n",
    "# \n",
    "# vol(C \\ v) = 0\n",
    "# cut(v, C \\ v) = sum([3, 3, 3, 3, 4, 4, 4, 2, 9]) + sum([1, 2])\n",
    "# cut "
   ]
  },
  {
   "cell_type": "code",
   "execution_count": null,
   "metadata": {},
   "outputs": [],
   "source": []
  },
  {
   "cell_type": "code",
   "execution_count": null,
   "metadata": {},
   "outputs": [],
   "source": [
    "class Node:\n",
    "    def __init__(self, cluster_id: str, id: str, neighbors: list[tuple[str, int]]):\n",
    "        self.id = id\n",
    "        self.cluster_id = cluster_id\n",
    "        self.neighbors = [neighbor for neighbor, _ in neighbors]\n",
    "        self.weights = [weight for _, weight in neighbors]\n",
    "    \n",
    "    def get_volume(self):\n",
    "        return sum(self.weights)\n",
    "\n",
    "    def get_degree(self):\n",
    "        return len(self.neighbors)\n",
    "\n",
    "    def get_neighbours(self):\n",
    "        return self.neighbors\n",
    "\n",
    "    def get_cut(self, other):\n",
    "        return len(set(self.neighbors).intersection(set(other.neighbors)))"
   ]
  }
 ],
 "metadata": {
  "kernelspec": {
   "display_name": "csc502-env",
   "language": "python",
   "name": "python3"
  },
  "language_info": {
   "codemirror_mode": {
    "name": "ipython",
    "version": 3
   },
   "file_extension": ".py",
   "mimetype": "text/x-python",
   "name": "python",
   "nbconvert_exporter": "python",
   "pygments_lexer": "ipython3",
   "version": "3.10.4 (main, Jul 10 2022, 16:26:13) [GCC 9.4.0]"
  },
  "orig_nbformat": 4,
  "vscode": {
   "interpreter": {
    "hash": "0147c8f441cbbd5705f6a0ae768b3f83c267d6fc5a57c28fe60fc48d36eb859e"
   }
  }
 },
 "nbformat": 4,
 "nbformat_minor": 2
}
