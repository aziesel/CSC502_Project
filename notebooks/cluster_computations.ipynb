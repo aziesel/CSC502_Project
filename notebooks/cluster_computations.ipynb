{
 "cells": [
  {
   "cell_type": "code",
   "execution_count": null,
   "metadata": {},
   "outputs": [],
   "source": [
    "import time\n",
    "\n",
    "import pyspark\n",
    "import networkx as nx\n",
    "\n",
    "from les_mis import LES_MIS_GRAPH\n",
    "\n",
    "sc = pyspark.SparkContext.getOrCreate()\n",
    "graph = sc.parallelize(LES_MIS_GRAPH)"
   ]
  },
  {
   "cell_type": "code",
   "execution_count": null,
   "metadata": {},
   "outputs": [],
   "source": [
    "print(f\"Number of partitions: {str(graph.getNumPartitions())}\")\n",
    "print(f\"First element in graph: {str(graph.first())}\")"
   ]
  },
  {
   "cell_type": "code",
   "execution_count": null,
   "metadata": {},
   "outputs": [],
   "source": [
    "graph.first()"
   ]
  },
  {
   "cell_type": "code",
   "execution_count": null,
   "metadata": {},
   "outputs": [],
   "source": [
    "len(graph.collect())"
   ]
  },
  {
   "cell_type": "code",
   "execution_count": null,
   "metadata": {},
   "outputs": [],
   "source": [
    "all_nodes = graph.flatMap(lambda x: (x[0], x[1])).distinct().collect()\n",
    "len(all_nodes)"
   ]
  },
  {
   "cell_type": "code",
   "execution_count": null,
   "metadata": {},
   "outputs": [],
   "source": [
    "# node_map = {node: i for i, node in enumerate(all_nodes)}\n",
    "cluster_map = {f\"cluster:{i}\":[node] for i, node in enumerate(all_nodes)}\n",
    "cluster_map"
   ]
  },
  {
   "cell_type": "code",
   "execution_count": null,
   "metadata": {},
   "outputs": [],
   "source": [
    "# Input Cluster (C)\n",
    "clusters = sc.parallelize([(cluster_map[cluster_id][0], cluster_id) for cluster_id in cluster_map.keys()], 32)\n",
    "\n",
    "in_clusters = clusters.map(lambda x: (x[0], x))\n",
    "# Input Graph (G)\n",
    "encoded_edges = graph.map(lambda x: (x[0], (x[1], x[2]))).union(\n",
    "    graph.map(lambda x: (x[1], (x[0], x[2])))\n",
    ").sortByKey(lambda x: x[0])\n",
    "len(encoded_edges.collect())"
   ]
  },
  {
   "cell_type": "code",
   "execution_count": null,
   "metadata": {},
   "outputs": [],
   "source": [
    "\n",
    "def to_list(a):\n",
    "    return [a]\n",
    "\n",
    "def append(a, b):\n",
    "    a.append(b)\n",
    "    return a\n",
    "\n",
    "def extend(a, b):\n",
    "    a.extend(b)\n",
    "    return a\n",
    "\n",
    "encoded_edges = encoded_edges.combineByKey(to_list, append, extend).sortBy(lambda x: x[0])"
   ]
  },
  {
   "cell_type": "code",
   "execution_count": null,
   "metadata": {},
   "outputs": [],
   "source": [
    "clusters.first()"
   ]
  },
  {
   "cell_type": "code",
   "execution_count": null,
   "metadata": {},
   "outputs": [],
   "source": [
    "collected = encoded_edges.collect()\n",
    "collected[0:4]"
   ]
  },
  {
   "cell_type": "code",
   "execution_count": null,
   "metadata": {},
   "outputs": [],
   "source": [
    "# make less slow :-(\n",
    "zipped = in_clusters.join(encoded_edges)\n",
    "zipped.collect()"
   ]
  },
  {
   "cell_type": "code",
   "execution_count": null,
   "metadata": {},
   "outputs": [],
   "source": [
    "mod_zipped = zipped.map(lambda x: (x[1][0][1], (x[0], x[1][1]))).collect()\n",
    "mod_zipped[0:2]"
   ]
  },
  {
   "cell_type": "code",
   "execution_count": null,
   "metadata": {},
   "outputs": [],
   "source": [
    "first_agg = zipped.flatMapValues(lambda x: (x[0], )).collect()\n",
    "first_agg.first()"
   ]
  },
  {
   "cell_type": "code",
   "execution_count": null,
   "metadata": {},
   "outputs": [],
   "source": [
    "temp_element = ('cluster:2',\n",
    "  (\n",
    "    'Champmathieu',\n",
    "   [\n",
    "      ('Valjean', 3),\n",
    "      ('Judge', 3),\n",
    "      ('Bamatabois', 2),\n",
    "      ('Brevet', 2),\n",
    "      ('Chenildieu', 2),\n",
    "      ('Cochepaille', 2)\n",
    "  ]\n",
    "   )\n",
    ")\n",
    "\n",
    "temp_element[1][1]"
   ]
  },
  {
   "cell_type": "code",
   "execution_count": null,
   "metadata": {},
   "outputs": [],
   "source": [
    "# The below data structure is what we want to end up with after the Aggregate by C(luster) operation\n",
    "# on page 693 of the paper. \n",
    "alternative = (\n",
    "    \"cluster:2\",\n",
    "    [\n",
    "        (\n",
    "            \"Champmathieu\",\n",
    "            (\n",
    "                'Valjean',\n",
    "                'Judge',\n",
    "                'Bamatabois',\n",
    "                'Brevet',\n",
    "                'Chenildieu',\n",
    "                'Cochepaille'\n",
    "            ),\n",
    "            (\n",
    "                3,\n",
    "                3,\n",
    "                2,\n",
    "                2,\n",
    "                2,\n",
    "                2\n",
    "            )\n",
    "        ),\n",
    "        # ... other elements in the cluster\n",
    "    ]\n",
    ")"
   ]
  },
  {
   "cell_type": "code",
   "execution_count": null,
   "metadata": {},
   "outputs": [],
   "source": [
    "total_volume = graph.map(lambda x: x[2]).sum() / 2\n",
    "\n",
    "cut_with_v = total_volume - sum(alternative[1][0][2])\n",
    "cut_with_v"
   ]
  },
  {
   "cell_type": "code",
   "execution_count": null,
   "metadata": {},
   "outputs": [],
   "source": [
    "print(f\"First element of cluster: {str(clusters[0])}\")\n",
    "print(f\"First encded graph edge: {str(encoded_edges.first())}\")"
   ]
  },
  {
   "cell_type": "code",
   "execution_count": null,
   "metadata": {},
   "outputs": [],
   "source": [
    "class Node:\n",
    "    def __init__(self, id, neighbors):\n",
    "        self.id = id\n",
    "        self.neighbors = neighbors\n",
    "    \n",
    "    def get_volume(self):\n",
    "        return len(self.neighbors)\n",
    "\n",
    "    def get_cut(self, other):\n",
    "        return len(set(self.neighbors).intersection(set(other.neighbors)))"
   ]
  }
 ],
 "metadata": {
  "kernelspec": {
   "display_name": "csc502-env",
   "language": "python",
   "name": "python3"
  },
  "language_info": {
   "codemirror_mode": {
    "name": "ipython",
    "version": 3
   },
   "file_extension": ".py",
   "mimetype": "text/x-python",
   "name": "python",
   "nbconvert_exporter": "python",
   "pygments_lexer": "ipython3",
   "version": "3.10.4"
  },
  "orig_nbformat": 4,
  "vscode": {
   "interpreter": {
    "hash": "0147c8f441cbbd5705f6a0ae768b3f83c267d6fc5a57c28fe60fc48d36eb859e"
   }
  }
 },
 "nbformat": 4,
 "nbformat_minor": 2
}
