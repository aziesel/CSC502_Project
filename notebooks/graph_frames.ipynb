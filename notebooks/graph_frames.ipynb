{
 "cells": [
  {
   "cell_type": "code",
   "execution_count": null,
   "metadata": {},
   "outputs": [],
   "source": [
    "import os\n",
    "os.environ['PYSPARK_SUBMIT_ARGS'] = '--packages graphframes:graphframes:0.8.1-spark3.0-s_2.12 pyspark-shell'\n",
    "\n",
    "import pyspark\n",
    "\n",
    "sc = pyspark.SparkContext()\n",
    "print(f\"Using pyspark version {pyspark.__version__}\")"
   ]
  },
  {
   "cell_type": "code",
   "execution_count": null,
   "metadata": {},
   "outputs": [],
   "source": [
    "from graphframes import *\n",
    "from les_mis import LES_MIS_GRAPH\n",
    "from pyspark.sql import SparkSession\n",
    "\n",
    "spark = SparkSession.builder.getOrCreate()\n",
    "spark.sparkContext.setCheckpointDir(\"./RddCheckPoint\")\n",
    "\n",
    "LES_MIS_GRAPH[0]"
   ]
  },
  {
   "cell_type": "code",
   "execution_count": null,
   "metadata": {},
   "outputs": [],
   "source": [
    "nodes = list(set([v[0] for v in LES_MIS_GRAPH] + [v[1] for v in LES_MIS_GRAPH]))\n",
    "node_to_id = {node: i for i, node in enumerate(nodes)}\n",
    "id_to_node = {i: node for i, node in enumerate(nodes)}\n",
    "cluster_to_node = {f\"cluster_{node}\": i for i, node in enumerate(nodes)}\n",
    "node_to_cluster = {i: f\"cluster_{node}\" for i, node in enumerate(nodes)}\n",
    "\n",
    "vertices = [(i, v, f\"cluster_{i}\") for i, v in enumerate(set([v[0] for v in LES_MIS_GRAPH] + [v[1] for v in LES_MIS_GRAPH]))]\n",
    "# Making this a multigraph makes finding connected components within clusters a lot easier. \n",
    "edges = [(node_to_id[e[0]], node_to_id[e[1]], e[2]) for e in LES_MIS_GRAPH] + [(node_to_id[e[1]], node_to_id[e[0]], e[2]) for e in LES_MIS_GRAPH]\n",
    "print(f\"Number of edges: {len(edges)}\")"
   ]
  },
  {
   "cell_type": "code",
   "execution_count": null,
   "metadata": {},
   "outputs": [],
   "source": [
    "v = spark.createDataFrame(vertices, [\"id\", \"name\", \"cluster\"])\n",
    "e = spark.createDataFrame(edges, [\"src\", \"dst\", \"weight\"])\n",
    "g = GraphFrame(v, e)"
   ]
  },
  {
   "cell_type": "code",
   "execution_count": null,
   "metadata": {},
   "outputs": [],
   "source": [
    "cluster_id = \"cluster_9\"\n",
    "g.filterVertices(f\"cluster = '{cluster_id}'\").filterEdges(f\"weight > 0\").edges.show()"
   ]
  },
  {
   "cell_type": "code",
   "execution_count": null,
   "metadata": {},
   "outputs": [],
   "source": [
    "g.edges.show(3)"
   ]
  },
  {
   "cell_type": "code",
   "execution_count": null,
   "metadata": {},
   "outputs": [],
   "source": [
    "cluster_id = \"cluster_9\"\n",
    "g.join(g.filterVertices(f\"cluster = '{cluster_id}'\"), on=\"id\").show()\n",
    "\n",
    "cluster_nodes = [node for node in g.filterVertices(f\"cluster = '{cluster_id}' OR cluster  ='cluster_2'\").collect()]\n",
    "total = 0\n",
    "for node in cluster_nodes:\n"
   ]
  },
  {
   "cell_type": "code",
   "execution_count": null,
   "metadata": {},
   "outputs": [],
   "source": [
    "cluster.filterVertices(\"cluster = 'cluster_2'\").vertices.show()"
   ]
  },
  {
   "cell_type": "code",
   "execution_count": null,
   "metadata": {},
   "outputs": [],
   "source": [
    "g.find(f\"cluster = '{cluster_id}'\").vertices.show()"
   ]
  },
  {
   "cell_type": "code",
   "execution_count": null,
   "metadata": {},
   "outputs": [],
   "source": [
    "cluster.vertices.show(3)"
   ]
  },
  {
   "cell_type": "code",
   "execution_count": null,
   "metadata": {},
   "outputs": [],
   "source": [
    "cluster.edges.show(3)"
   ]
  },
  {
   "cell_type": "code",
   "execution_count": null,
   "metadata": {},
   "outputs": [],
   "source": [
    "cluster = g.filterVertices(f\"cluster = '{cluster_id}'\")\n",
    "cluster.vertices.show()"
   ]
  },
  {
   "cell_type": "code",
   "execution_count": null,
   "metadata": {},
   "outputs": [],
   "source": []
  },
  {
   "cell_type": "code",
   "execution_count": null,
   "metadata": {},
   "outputs": [],
   "source": [
    "cluster.edges.show()"
   ]
  },
  {
   "cell_type": "code",
   "execution_count": null,
   "metadata": {},
   "outputs": [],
   "source": [
    "g.filterEdges(f\"dst = '9' OR src = '9'\").vertices.show()"
   ]
  },
  {
   "cell_type": "code",
   "execution_count": null,
   "metadata": {},
   "outputs": [],
   "source": [
    "g.edges.show()"
   ]
  },
  {
   "cell_type": "code",
   "execution_count": null,
   "metadata": {},
   "outputs": [],
   "source": []
  },
  {
   "cell_type": "code",
   "execution_count": null,
   "metadata": {},
   "outputs": [],
   "source": [
    "cluster_id = \"cluster_0\"\n",
    "cluster = g.filterVertices(f\"cluster = '{cluster_id}'\")\n",
    "connected = cluster.connectedComponents(checkpointInterval=100) # connected Components is sooo slow\n",
    "L_c = 0\n",
    "if connected.count() > 0:\n",
    "    L_c =  connected.edges.agg({\"weight\": \"sum\"}).collect()[0][0]\n",
    "\n",
    "weight_sum = cluster.edges.agg({\"weight\": \"sum\"}).collect()[0][0]\n"
   ]
  },
  {
   "cell_type": "code",
   "execution_count": null,
   "metadata": {},
   "outputs": [],
   "source": [
    "def community_contribution(community: str) -> float:\n",
    "    g.filterVertices(f\"cluster = '{cluster_id}'\").dropIsolatedVertices()\n",
    "    L_c = sum()"
   ]
  },
  {
   "cell_type": "code",
   "execution_count": null,
   "metadata": {},
   "outputs": [],
   "source": [
    "frame = GraphFrame(g.filterVertices(f\"cluster = '{cluster_id}'\"))\n",
    "frame.show()"
   ]
  },
  {
   "cell_type": "code",
   "execution_count": null,
   "metadata": {},
   "outputs": [],
   "source": []
  },
  {
   "cell_type": "code",
   "execution_count": null,
   "metadata": {},
   "outputs": [],
   "source": [
    "g.filterVertices(f\"cluster = '{cluster_id}'\").dropIsolatedVertices().edges.show()"
   ]
  },
  {
   "cell_type": "code",
   "execution_count": null,
   "metadata": {},
   "outputs": [],
   "source": [
    "cluster_id = \"cluster_0\"\n",
    "g.find(\"(a)-[e]->(b)\").filter(f\"a.cluster = '{cluster_id}'\").show()"
   ]
  },
  {
   "cell_type": "code",
   "execution_count": null,
   "metadata": {},
   "outputs": [],
   "source": [
    "L_c = sum(wt for u, v, wt in g.edges.collect() if )"
   ]
  },
  {
   "cell_type": "code",
   "execution_count": null,
   "metadata": {},
   "outputs": [],
   "source": [
    "g.vertices.groupBy(\"cluster\").select()"
   ]
  },
  {
   "cell_type": "code",
   "execution_count": null,
   "metadata": {},
   "outputs": [],
   "source": [
    "g.outDegrees.max()"
   ]
  },
  {
   "cell_type": "code",
   "execution_count": null,
   "metadata": {},
   "outputs": [],
   "source": []
  },
  {
   "cell_type": "code",
   "execution_count": null,
   "metadata": {},
   "outputs": [],
   "source": [
    "g.find(\"(a)-[e]->(b)\").filter()"
   ]
  }
 ],
 "metadata": {
  "kernelspec": {
   "display_name": "csc502-env",
   "language": "python",
   "name": "python3"
  },
  "language_info": {
   "codemirror_mode": {
    "name": "ipython",
    "version": 3
   },
   "file_extension": ".py",
   "mimetype": "text/x-python",
   "name": "python",
   "nbconvert_exporter": "python",
   "pygments_lexer": "ipython3",
   "version": "3.10.4 (main, Jul 10 2022, 16:26:13) [GCC 9.4.0]"
  },
  "orig_nbformat": 4,
  "vscode": {
   "interpreter": {
    "hash": "0147c8f441cbbd5705f6a0ae768b3f83c267d6fc5a57c28fe60fc48d36eb859e"
   }
  }
 },
 "nbformat": 4,
 "nbformat_minor": 2
}
